{
 "cells": [
  {
   "cell_type": "markdown",
   "id": "1dfa538d-76d7-42d9-b7db-2311f3c6d0ba",
   "metadata": {},
   "source": [
    "# Current Progress\n",
    "In the ColoniesProject python notebook, we have converted an image of a plate with colony-forming units to grayscale and thresholded the image to make the colonies easier to distinguish from everything else. We then displayed the image as it has been edited.\n",
    "\n",
    "# Goals\n",
    "1. To write a program that can count the number of CFUs in an image of a bacterial plate\n",
    "2. To turn that code into a function that allows the quick analysis of plate images just by attaching a new image file\n",
    "3. To analyze data collected by inputting different plate images\n",
    "\n",
    "# Resources\n",
    "The two following sites contain documentation on using OpenCV. We have also used ChatGPT to run any errors we come across in our code that we can't figure out how to fix from the documentation.\n",
    "https://docs.opencv.org/4.x/d6/d00/tutorial_py_root.html\n",
    "https://pyimagesearch.com/category/opencv/\n"
   ]
  },
  {
   "cell_type": "code",
   "execution_count": null,
   "id": "f99e6d50-a973-4ba8-81be-782030ee88b1",
   "metadata": {},
   "outputs": [],
   "source": []
  },
  {
   "cell_type": "code",
   "execution_count": null,
   "id": "938cfd66-9325-419d-b426-16a927536085",
   "metadata": {},
   "outputs": [],
   "source": []
  }
 ],
 "metadata": {
  "kernelspec": {
   "display_name": "Python 3 (ipykernel)",
   "language": "python",
   "name": "python3"
  },
  "language_info": {
   "codemirror_mode": {
    "name": "ipython",
    "version": 3
   },
   "file_extension": ".py",
   "mimetype": "text/x-python",
   "name": "python",
   "nbconvert_exporter": "python",
   "pygments_lexer": "ipython3",
   "version": "3.12.1"
  }
 },
 "nbformat": 4,
 "nbformat_minor": 5
}
