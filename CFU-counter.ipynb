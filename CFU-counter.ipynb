{
 "cells": [
  {
   "cell_type": "markdown",
   "id": "1dfa538d-76d7-42d9-b7db-2311f3c6d0ba",
   "metadata": {},
   "source": [
    "# Current Progress\n",
    "\n",
    "\n",
    "# Goals\n",
    "\n",
    "\n",
    "# Resources\n",
    "\n"
   ]
  },
  {
   "cell_type": "code",
   "execution_count": null,
   "id": "f99e6d50-a973-4ba8-81be-782030ee88b1",
   "metadata": {},
   "outputs": [],
   "source": []
  }
 ],
 "metadata": {
  "kernelspec": {
   "display_name": "Python 3 (ipykernel)",
   "language": "python",
   "name": "python3"
  },
  "language_info": {
   "codemirror_mode": {
    "name": "ipython",
    "version": 3
   },
   "file_extension": ".py",
   "mimetype": "text/x-python",
   "name": "python",
   "nbconvert_exporter": "python",
   "pygments_lexer": "ipython3",
   "version": "3.12.1"
  }
 },
 "nbformat": 4,
 "nbformat_minor": 5
}
